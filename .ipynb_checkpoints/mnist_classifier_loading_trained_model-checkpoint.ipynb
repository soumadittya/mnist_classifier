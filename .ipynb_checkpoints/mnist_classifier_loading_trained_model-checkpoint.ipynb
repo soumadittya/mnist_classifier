{
 "cells": [
  {
   "cell_type": "raw",
   "id": "secondary-receptor",
   "metadata": {},
   "source": [
    "in this note model which has been already trained on google colab will be used\n",
    "directly for further operations"
   ]
  },
  {
   "cell_type": "code",
   "execution_count": 44,
   "id": "outdoor-newcastle",
   "metadata": {},
   "outputs": [],
   "source": [
    "import matplotlib.pyplot as plt\n",
    "import numpy as np\n",
    "import cv2"
   ]
  },
  {
   "cell_type": "code",
   "execution_count": 1,
   "id": "ordinary-values",
   "metadata": {},
   "outputs": [],
   "source": [
    "# importing the load_model function to load the trained model\n",
    "from tensorflow.keras.models import load_model"
   ]
  },
  {
   "cell_type": "code",
   "execution_count": 2,
   "id": "rough-mistake",
   "metadata": {},
   "outputs": [],
   "source": [
    "# loading the trained model\n",
    "\n",
    "filepath = \"./model/mnist_classifier.h5\"\n",
    "cnn = load_model(filepath)"
   ]
  },
  {
   "cell_type": "code",
   "execution_count": 3,
   "id": "theoretical-listing",
   "metadata": {
    "scrolled": true
   },
   "outputs": [
    {
     "name": "stdout",
     "output_type": "stream",
     "text": [
      "Model: \"sequential\"\n",
      "_________________________________________________________________\n",
      "Layer (type)                 Output Shape              Param #   \n",
      "=================================================================\n",
      "conv2d (Conv2D)              (None, 26, 26, 32)        320       \n",
      "_________________________________________________________________\n",
      "max_pooling2d (MaxPooling2D) (None, 13, 13, 32)        0         \n",
      "_________________________________________________________________\n",
      "conv2d_1 (Conv2D)            (None, 11, 11, 64)        18496     \n",
      "_________________________________________________________________\n",
      "max_pooling2d_1 (MaxPooling2 (None, 5, 5, 64)          0         \n",
      "_________________________________________________________________\n",
      "flatten (Flatten)            (None, 1600)              0         \n",
      "_________________________________________________________________\n",
      "dense (Dense)                (None, 64)                102464    \n",
      "_________________________________________________________________\n",
      "dense_1 (Dense)              (None, 20)                1300      \n",
      "=================================================================\n",
      "Total params: 122,580\n",
      "Trainable params: 122,580\n",
      "Non-trainable params: 0\n",
      "_________________________________________________________________\n"
     ]
    }
   ],
   "source": [
    "cnn.summary()"
   ]
  },
  {
   "cell_type": "code",
   "execution_count": 15,
   "id": "functional-arctic",
   "metadata": {},
   "outputs": [],
   "source": [
    "# importing the dataset\n",
    "\n",
    "import tensorflow.keras as kf\n",
    "(x_train, y_train), (x_test, y_test) = kf.datasets.mnist.load_data()"
   ]
  },
  {
   "cell_type": "code",
   "execution_count": 40,
   "id": "simple-virginia",
   "metadata": {},
   "outputs": [
    {
     "data": {
      "text/plain": [
       "<matplotlib.image.AxesImage at 0x233a9d229a0>"
      ]
     },
     "execution_count": 40,
     "metadata": {},
     "output_type": "execute_result"
    },
    {
     "data": {
      "image/png": "[encoded data removed]",
      "text/plain": [
       "<Figure size 432x288 with 1 Axes>"
      ]
     },
     "metadata": {
      "needs_background": "light"
     },
     "output_type": "display_data"
    }
   ],
   "source": [
    "\n",
    "\n",
    "img = im.open('./data_own/1.jpg').convert('LA')\n",
    "plt.imshow(img)"
   ]
  },
  {
   "cell_type": "code",
   "execution_count": 45,
   "id": "opponent-network",
   "metadata": {},
   "outputs": [],
   "source": [
    "image = cv2.imread('./data_own/1.jpg')\n",
    "gray = cv2.cvtColor(image, cv2.COLOR_BGR2GRAY)"
   ]
  },
  {
   "cell_type": "code",
   "execution_count": 46,
   "id": "configured-general",
   "metadata": {},
   "outputs": [
    {
     "data": {
      "text/plain": [
       "numpy.ndarray"
      ]
     },
     "execution_count": 46,
     "metadata": {},
     "output_type": "execute_result"
    }
   ],
   "source": [
    "type(image)"
   ]
  },
  {
   "cell_type": "code",
   "execution_count": 47,
   "id": "imported-structure",
   "metadata": {},
   "outputs": [
    {
     "data": {
      "text/plain": [
       "numpy.ndarray"
      ]
     },
     "execution_count": 47,
     "metadata": {},
     "output_type": "execute_result"
    }
   ],
   "source": [
    "type(x_train)"
   ]
  },
  {
   "cell_type": "code",
   "execution_count": 48,
   "id": "noted-patent",
   "metadata": {},
   "outputs": [
    {
     "data": {
      "text/plain": [
       "(114, 86)"
      ]
     },
     "execution_count": 48,
     "metadata": {},
     "output_type": "execute_result"
    }
   ],
   "source": [
    "gray.shape"
   ]
  },
  {
   "cell_type": "code",
   "execution_count": 49,
   "id": "afraid-knowing",
   "metadata": {},
   "outputs": [
    {
     "data": {
      "text/plain": [
       "(114, 86, 3)"
      ]
     },
     "execution_count": 49,
     "metadata": {},
     "output_type": "execute_result"
    }
   ],
   "source": [
    "image.shape"
   ]
  },
  {
   "cell_type": "code",
   "execution_count": 53,
   "id": "thorough-ottawa",
   "metadata": {},
   "outputs": [],
   "source": [
    "resized_gray = cv2.resize(gray, (28, 28), interpolation = cv2.INTER_AREA)"
   ]
  },
  {
   "cell_type": "code",
   "execution_count": 54,
   "id": "speaking-disorder",
   "metadata": {},
   "outputs": [
    {
     "data": {
      "text/plain": [
       "(28, 28)"
      ]
     },
     "execution_count": 54,
     "metadata": {},
     "output_type": "execute_result"
    }
   ],
   "source": [
    "resized_gray.shape"
   ]
  },
  {
   "cell_type": "code",
   "execution_count": 55,
   "id": "surprising-injection",
   "metadata": {},
   "outputs": [
    {
     "data": {
      "text/plain": [
       "<matplotlib.image.AxesImage at 0x233a9f99c40>"
      ]
     },
     "execution_count": 55,
     "metadata": {},
     "output_type": "execute_result"
    },
    {
     "data": {
      "image/png": "[encoded data removed]",
      "text/plain": [
       "<Figure size 432x288 with 1 Axes>"
      ]
     },
     "metadata": {
      "needs_background": "light"
     },
     "output_type": "display_data"
    }
   ],
   "source": [
    "plt.imshow(resized_gray)"
   ]
  },
  {
   "cell_type": "code",
   "execution_count": 56,
   "id": "hairy-learning",
   "metadata": {},
   "outputs": [
    {
     "data": {
      "text/plain": [
       "<matplotlib.image.AxesImage at 0x233a9ffab50>"
      ]
     },
     "execution_count": 56,
     "metadata": {},
     "output_type": "execute_result"
    },
    {
     "data": {
      "image/png": "[encoded data removed]",
      "text/plain": [
       "<Figure size 432x288 with 1 Axes>"
      ]
     },
     "metadata": {
      "needs_background": "light"
     },
     "output_type": "display_data"
    }
   ],
   "source": [
    "plt.imshow(gray)"
   ]
  },
  {
   "cell_type": "code",
   "execution_count": 57,
   "id": "assigned-document",
   "metadata": {},
   "outputs": [
    {
     "data": {
      "text/plain": [
       "<matplotlib.image.AxesImage at 0x233aa062be0>"
      ]
     },
     "execution_count": 57,
     "metadata": {},
     "output_type": "execute_result"
    },
    {
     "data": {
      "image/png": "[encoded data removed]",
      "text/plain": [
       "<Figure size 432x288 with 1 Axes>"
      ]
     },
     "metadata": {
      "needs_background": "light"
     },
     "output_type": "display_data"
    }
   ],
   "source": [
    "plt.imshow(image)"
   ]
  },
  {
   "cell_type": "code",
   "execution_count": 59,
   "id": "pregnant-bullet",
   "metadata": {},
   "outputs": [
    {
     "data": {
      "text/plain": [
       "array([  0,   1,   2,   3,   4,   5,   6,   7,   8,   9,  10,  11,  12,\n",
       "        13,  14,  15,  16,  18,  21,  23,  24,  26,  27,  33,  36,  39,\n",
       "        40,  41,  42,  43,  44,  47,  48,  53,  54,  55,  56,  58,  59,\n",
       "        61,  66,  67,  69,  70,  71,  72,  74,  76,  77,  78,  79,  80,\n",
       "        81,  83,  84,  86,  88,  90,  91,  93,  94,  95,  96,  97,  98,\n",
       "        99, 105, 107, 108, 110, 111, 112, 113, 114, 116, 117, 119, 120,\n",
       "       121, 122, 124, 125, 126, 128, 129, 132, 136, 137, 139, 140, 142,\n",
       "       143, 144, 145, 147, 149, 152, 155, 156, 157, 161, 162, 163, 164,\n",
       "       168, 169, 171, 174, 177, 178, 179, 182, 183, 186, 189, 190, 191,\n",
       "       192, 193, 194, 196, 199, 200, 201, 203, 204, 205, 206, 207, 209,\n",
       "       210, 211, 213, 214, 217, 221, 224, 226, 227, 228, 230, 231, 232,\n",
       "       234, 235, 236, 237, 238, 239, 240, 241, 242, 243, 244, 245, 246,\n",
       "       247, 248, 249, 250, 251, 252, 253, 254, 255], dtype=uint8)"
      ]
     },
     "execution_count": 59,
     "metadata": {},
     "output_type": "execute_result"
    }
   ],
   "source": [
    "np.unique(image)"
   ]
  },
  {
   "cell_type": "code",
   "execution_count": 60,
   "id": "dressed-pittsburgh",
   "metadata": {},
   "outputs": [
    {
     "data": {
      "text/plain": [
       "array([  0,   1,   2,   3,   4,   5,   6,   7,   8,   9,  10,  11,  12,\n",
       "        13,  14,  15,  16,  18,  21,  23,  24,  26,  27,  33,  36,  39,\n",
       "        40,  41,  42,  43,  44,  47,  48,  53,  54,  55,  56,  58,  59,\n",
       "        61,  66,  67,  69,  70,  71,  72,  74,  76,  77,  78,  79,  80,\n",
       "        81,  83,  84,  86,  88,  90,  91,  93,  94,  95,  96,  97,  98,\n",
       "        99, 105, 107, 108, 110, 111, 112, 113, 114, 116, 117, 119, 120,\n",
       "       121, 122, 124, 125, 126, 128, 129, 132, 136, 137, 139, 140, 142,\n",
       "       143, 144, 145, 147, 149, 152, 155, 156, 157, 161, 162, 163, 164,\n",
       "       168, 169, 171, 174, 177, 178, 179, 182, 183, 186, 189, 190, 191,\n",
       "       192, 193, 194, 196, 199, 200, 201, 203, 204, 205, 206, 207, 209,\n",
       "       210, 211, 213, 214, 217, 221, 224, 226, 227, 228, 230, 231, 232,\n",
       "       234, 235, 236, 237, 238, 239, 240, 241, 242, 243, 244, 245, 246,\n",
       "       247, 248, 249, 250, 251, 252, 253, 254, 255], dtype=uint8)"
      ]
     },
     "execution_count": 60,
     "metadata": {},
     "output_type": "execute_result"
    }
   ],
   "source": [
    "np.unique(gray)"
   ]
  },
  {
   "cell_type": "raw",
   "id": "abroad-steps",
   "metadata": {},
   "source": [
    "np.unique()"
   ]
  },
  {
   "cell_type": "code",
   "execution_count": null,
   "id": "generic-stationery",
   "metadata": {},
   "outputs": [],
   "source": []
  },
  {
   "cell_type": "code",
   "execution_count": null,
   "id": "confidential-bhutan",
   "metadata": {},
   "outputs": [],
   "source": []
  },
  {
   "cell_type": "code",
   "execution_count": null,
   "id": "reserved-contribution",
   "metadata": {},
   "outputs": [],
   "source": []
  },
  {
   "cell_type": "code",
   "execution_count": null,
   "id": "perceived-techno",
   "metadata": {},
   "outputs": [],
   "source": []
  },
  {
   "cell_type": "code",
   "execution_count": null,
   "id": "conservative-hotel",
   "metadata": {},
   "outputs": [],
   "source": []
  },
  {
   "cell_type": "code",
   "execution_count": null,
   "id": "narrative-dietary",
   "metadata": {},
   "outputs": [],
   "source": []
  }
 ],
 "metadata": {
  "kernelspec": {
   "display_name": "data_science",
   "language": "python",
   "name": "data_science"
  },
  "language_info": {
   "codemirror_mode": {
    "name": "ipython",
    "version": 3
   },
   "file_extension": ".py",
   "mimetype": "text/x-python",
   "name": "python",
   "nbconvert_exporter": "python",
   "pygments_lexer": "ipython3",
   "version": "3.8.7"
  }
 },
 "nbformat": 4,
 "nbformat_minor": 5
}
